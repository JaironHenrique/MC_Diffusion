{
 "cells": [
  {
   "cell_type": "code",
   "execution_count": 5,
   "metadata": {},
   "outputs": [],
   "source": [
    "import numpy as np\n",
    "import seaborn as sns\n",
    "import matplotlib.pyplot as plt\n",
    "from scipy.stats import norm"
   ]
  },
  {
   "cell_type": "code",
   "execution_count": 19,
   "metadata": {},
   "outputs": [],
   "source": [
    "class Score_Sampler():\n",
    "    def __init__(self, bmin = 1.0, bmax = 1.0):\n",
    "        self.bmin = bmin\n",
    "        self.bmax = bmax\n",
    "\n",
    "    def beta_funtion(self,t):\n",
    "        bmin = self.bmin\n",
    "        bmax = self.bmax\n",
    "        return bmin + (bmax - bmin)*t\n",
    "\n",
    "    def beta_funtion_integral(self, t):\n",
    "        bmin = 1.0\n",
    "        bmax = 1.0\n",
    "        return bmin*t + (bmax - bmin)*(t**2)/2\n",
    "\n",
    "    def compute_a(self, t):\n",
    "        beta_integral = self.beta_funtion_integral(t)\n",
    "        return np.exp(- 0.5 * beta_integral) + 1e-5\n",
    "\n",
    "    def compute_sigma(self, t):\n",
    "        beta_integral = self.beta_funtion_integral(t)\n",
    "        return np.sqrt(1 - np.exp( - beta_integral)) + 1e-5\n",
    "\n",
    "    def MC_estimator_score(self, t, X, pi, sample_size):\n",
    "        pass\n",
    "\n",
    "    def sample(self, pi, dim, batch_size, sample_size, T = 3, N = 1000):\n",
    "        X = np.random.normal(size = (batch_size, dim))\n",
    "        dt = T/N\n",
    "        for i in range(0, N):\n",
    "            t = dt * i\n",
    "            score = self.MC_estimator_score(T - t, X, pi, sample_size)\n",
    "            beta = self.beta_funtion(T - t)\n",
    "            drift = beta * X / 2 + beta * score\n",
    "            vol = np.sqrt(beta)\n",
    "            dW =  np.sqrt(dt)*np.random.normal(size = (batch_size, dim)) \n",
    "            X = X + drift*dt + vol*dW\n",
    "        return X "
   ]
  },
  {
   "cell_type": "code",
   "execution_count": 27,
   "metadata": {},
   "outputs": [],
   "source": [
    "class Log_Expansion_Score(Score_Sampler):\n",
    "    def __init__(self, bmin=1, bmax=1):\n",
    "        super().__init__(bmin = bmin, bmax = bmax)\n",
    "    \n",
    "    def MC_estimator_grad_pi_t(self, pi, X, a, sigma, sample_size):\n",
    "        '''\n",
    "        Estimate for E[Z \\pi(X0)/(sigma)] where X0 = (sigma*Z + X)/a and Z starndar normal \n",
    "\n",
    "        Parameter:\n",
    "            pi (funtion): (M, L, N) -> (M, L, 1)\n",
    "            X  (array):   (L, N)\n",
    "            a  (Float)\n",
    "            sigma (Float)\n",
    "            Sample_size (int)\n",
    "\n",
    "        return:\n",
    "            array:  (L, N)\n",
    "        '''\n",
    "        batch_size = X.shape[0]\n",
    "        dim_X = X.shape[1]\n",
    "        Z = np.random.randn(sample_size, batch_size, dim_X)\n",
    "        X0 = (sigma * Z + X)/a\n",
    "        # Aplicar pi em X0\n",
    "        pi_X0 = pi(X0)\n",
    "        pi_X0 = pi_X0\n",
    "        expression = (Z * pi_X0) / sigma\n",
    "        MC = np.mean(expression, axis = 0)\n",
    "        return MC\n",
    "\n",
    "    def unbiease_estimator_pi_t(self, pi, X, a, sigma, sample_size):\n",
    "        '''\n",
    "        Estimate for E[\\pi(X0)] where X0 = (sigma*Z + X)/a and Z starndar normal \n",
    "        Parameter:\n",
    "            pi (funtion): (M, L, N) -> (M, L, 1)\n",
    "            X  (array):   (L, N)\n",
    "            a  (Float)\n",
    "            sigma (Float)\n",
    "            Sample_size (int)\n",
    "\n",
    "        return:\n",
    "            np.array (L,)\n",
    "        '''\n",
    "        batch_size = X.shape[0]\n",
    "        dim_X = X.shape[1]\n",
    "        Z = np.random.randn(sample_size, batch_size, dim_X)\n",
    "        X0 = (sigma * Z + X)/a\n",
    "        # Aplicar pi em X0\n",
    "        pi_X0 = pi(X0)\n",
    "        MC = np.mean(pi_X0, axis = 0)\n",
    "        return MC\n",
    "\n",
    "    def MC_estimator_score(self, t, X, pi, sample_size):\n",
    "        a = self.compute_a(t)\n",
    "        sigma = self.compute_sigma(t)\n",
    "        grad_pi_log = np.log(self.MC_estimator_grad_pi_t(pi, X, a, sigma, sample_size))\n",
    "        p = 1/2\n",
    "        # Note que estou gerando só um N, precisamos de vários\n",
    "        N = np.random.geometric(p) - 1\n",
    "        random_produc_log = 0\n",
    "        for _ in range(N):\n",
    "            random_produc_log += np.log(self.unbiease_estimator_pi_t(pi, X, a, sigma, sample_size))\n",
    "        pi_inverse_log = random_produc_log - N*np.log(p) - np.log(1-p) \n",
    "        log_MC = grad_pi_log  + pi_inverse_log\n",
    "        return np.exp(log_MC)"
   ]
  },
  {
   "cell_type": "code",
   "execution_count": 28,
   "metadata": {},
   "outputs": [],
   "source": [
    "def pi_normal(X):\n",
    "    mean = 0\n",
    "    var = 1\n",
    "    density = np.exp(- (X - mean)**2/(2*var))\n",
    "    return density"
   ]
  },
  {
   "cell_type": "code",
   "execution_count": 29,
   "metadata": {},
   "outputs": [
    {
     "name": "stderr",
     "output_type": "stream",
     "text": [
      "C:\\Users\\henri\\AppData\\Local\\Temp\\ipykernel_16028\\2472869561.py:55: RuntimeWarning: invalid value encountered in log\n",
      "  grad_pi_log = np.log(self.MC_estimator_grad_pi_t(pi, X, a, sigma, sample_size))\n"
     ]
    },
    {
     "data": {
      "text/plain": [
       "<Axes: ylabel='Density'>"
      ]
     },
     "execution_count": 29,
     "metadata": {},
     "output_type": "execute_result"
    },
    {
     "data": {
      "image/png": "[encoded data removed]",
      "text/plain": [
       "<Figure size 640x480 with 1 Axes>"
      ]
     },
     "metadata": {},
     "output_type": "display_data"
    }
   ],
   "source": [
    "sampler = Log_Expansion_Score()\n",
    "data = sampler.sample(pi_normal, 1, 500, 512)[:,0]\n",
    "x = np.linspace(min(data), max(data), 1000)\n",
    "y = norm.pdf(x, 0, 1)\n",
    "plt.plot(x, y, color=\"red\", label=\"Densidade Normal\")\n",
    "sns.histplot(data, stat = \"density\", kde = True, color=\"blue\")"
   ]
  },
  {
   "cell_type": "code",
   "execution_count": null,
   "metadata": {},
   "outputs": [],
   "source": []
  }
 ],
 "metadata": {
  "kernelspec": {
   "display_name": "Python 3",
   "language": "python",
   "name": "python3"
  },
  "language_info": {
   "codemirror_mode": {
    "name": "ipython",
    "version": 3
   },
   "file_extension": ".py",
   "mimetype": "text/x-python",
   "name": "python",
   "nbconvert_exporter": "python",
   "pygments_lexer": "ipython3",
   "version": "3.11.9"
  }
 },
 "nbformat": 4,
 "nbformat_minor": 2
}
